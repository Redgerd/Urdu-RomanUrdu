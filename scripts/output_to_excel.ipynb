{
 "cells": [
  {
   "cell_type": "code",
   "execution_count": 9,
   "id": "0bd6145e",
   "metadata": {},
   "outputs": [],
   "source": [
    "import re\n",
    "import json\n",
    "from collections import Counter\n",
    "import pandas as pd"
   ]
  },
  {
   "cell_type": "code",
   "execution_count": 10,
   "id": "6cab618e",
   "metadata": {},
   "outputs": [],
   "source": [
    "# Initialize\n",
    "inputs = []\n",
    "targets = []\n",
    "sources = []\n",
    "source_counter = Counter()\n",
    "failed = 0\n",
    "both_present = 0\n",
    "failed_lines = []"
   ]
  },
  {
   "cell_type": "code",
   "execution_count": 11,
   "id": "f839318f",
   "metadata": {},
   "outputs": [],
   "source": [
    "response_file = \"outputs/batch_0_25_Jun_25_output.jsonl\"      # Replace with your actual input path\n",
    "detailed_log = \"outputs/detailed_log.txt\"\n",
    "output_excel = \"outputs/batch_0_25_Jun_25_output.xlsx\"\n",
    "total = 0"
   ]
  },
  {
   "cell_type": "code",
   "execution_count": 12,
   "id": "fd95ac92",
   "metadata": {},
   "outputs": [],
   "source": [
    "\n",
    "with open(response_file, \"r\", encoding=\"utf-8\") as f, open(detailed_log, \"w\", encoding=\"utf-8\") as log_file:\n",
    "    for idx, line in enumerate(f, 1):\n",
    "        total += 1\n",
    "        input_part = None\n",
    "        target_part = None\n",
    "        source_method = \"n/a\"\n",
    "\n",
    "        try:\n",
    "            data = json.loads(line)\n",
    "            content = data[\"response\"][\"body\"][\"choices\"][0][\"message\"][\"content\"]\n",
    "            original_content = content\n",
    "            content = content.replace('\\r\\n', '\\n').strip()\n",
    "\n",
    "            log_file.write(f\"\\n--- Line {idx} ---\\n\")\n",
    "            log_file.write(f\"RAW Content: {repr(original_content)}\\n\")\n",
    "\n",
    "            # 1. Try ## INPUT ## and ## TARGET ##\n",
    "            match = re.search(r'\\n*## INPUT ##\\n*(.+?)\\n*## TARGET ##\\n*(.+)', content, re.DOTALL)\n",
    "            if match:\n",
    "                input_part = match.group(1)\n",
    "                target_part = match.group(2)\n",
    "                source_method = \"regex_markers\"\n",
    "                both_present += 1\n",
    "\n",
    "            # 2. Try split by double newline\n",
    "            elif content.count(\"\\n\\n\") == 1:\n",
    "                parts = content.split(\"\\n\\n\", 1)\n",
    "                if len(parts) == 2:\n",
    "                    input_part = parts[0]\n",
    "                    target_part = parts[1]\n",
    "                    source_method = \"double_newline\"\n",
    "\n",
    "            # 3. Fallback: if both missing\n",
    "            if input_part is None and target_part is None:\n",
    "                input_part = \"\"\n",
    "                target_part = content\n",
    "                source_method = \"fallback_full_content\"\n",
    "\n",
    "            # Record results\n",
    "            inputs.append(input_part)\n",
    "            targets.append(target_part)\n",
    "            sources.append(source_method)\n",
    "            source_counter[source_method] += 1\n",
    "\n",
    "            log_file.write(f\"Extracted INPUT: {repr(input_part)}\\n\")\n",
    "            log_file.write(f\"Extracted TARGET: {repr(target_part)}\\n\")\n",
    "            log_file.write(f\"Method Used: {source_method}\\n\")\n",
    "\n",
    "        except Exception as e:\n",
    "            inputs.append(\"\")\n",
    "            targets.append(\"n/a\")\n",
    "            sources.append(\"error\")\n",
    "            source_counter[\"error\"] += 1\n",
    "            failed += 1\n",
    "            failed_lines.append(idx)\n",
    "            log_file.write(f\"\\nLine {idx}: EXCEPTION - {e}\\n\")\n",
    "            log_file.write(f\"Line Content: {repr(line)}\\n\")"
   ]
  },
  {
   "cell_type": "code",
   "execution_count": 13,
   "id": "0fb35859",
   "metadata": {},
   "outputs": [],
   "source": [
    "# Write Excel file\n",
    "df = pd.DataFrame({\n",
    "    \"input\": inputs,\n",
    "    \"target\": targets,\n",
    "    \"source_method\": sources\n",
    "})\n",
    "df.to_excel(output_excel, index=False)"
   ]
  },
  {
   "cell_type": "code",
   "execution_count": 14,
   "id": "c5f7e093",
   "metadata": {},
   "outputs": [
    {
     "name": "stdout",
     "output_type": "stream",
     "text": [
      "\n",
      "========== SUMMARY ==========\n",
      "Total lines processed: 500\n",
      "Successfully extracted (regex_markers): 76\n",
      "Fallback to double_newline: 138\n",
      "Fallback to full content: 286\n",
      "Failed (exceptions): 0\n",
      "=============================\n",
      "\n"
     ]
    }
   ],
   "source": [
    "# Write summary to log and print\n",
    "summary = f\"\"\"\n",
    "========== SUMMARY ==========\n",
    "Total lines processed: {total}\n",
    "Successfully extracted (regex_markers): {source_counter['regex_markers']}\n",
    "Fallback to double_newline: {source_counter['double_newline']}\n",
    "Fallback to full content: {source_counter['fallback_full_content']}\n",
    "Failed (exceptions): {source_counter['error']}\n",
    "=============================\n",
    "\"\"\"\n",
    "\n",
    "print(summary)\n",
    "with open(detailed_log, \"a\", encoding=\"utf-8\") as log_file:\n",
    "    log_file.write(summary)"
   ]
  }
 ],
 "metadata": {
  "kernelspec": {
   "display_name": "base",
   "language": "python",
   "name": "python3"
  },
  "language_info": {
   "codemirror_mode": {
    "name": "ipython",
    "version": 3
   },
   "file_extension": ".py",
   "mimetype": "text/x-python",
   "name": "python",
   "nbconvert_exporter": "python",
   "pygments_lexer": "ipython3",
   "version": "3.11.7"
  }
 },
 "nbformat": 4,
 "nbformat_minor": 5
}
