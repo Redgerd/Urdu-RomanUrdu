{
 "cells": [
  {
   "cell_type": "code",
   "execution_count": 4,
   "id": "53fd56a0",
   "metadata": {},
   "outputs": [],
   "source": [
    "import pandas as pd\n",
    "import json"
   ]
  },
  {
   "cell_type": "code",
   "execution_count": 5,
   "id": "fd8ee4a8",
   "metadata": {},
   "outputs": [],
   "source": [
    "excel_file_path = \"urdu_to_roman_scout.xlsx\"\n",
    "output_jsonl_path = \"instruction.jsonl\""
   ]
  },
  {
   "cell_type": "code",
   "execution_count": 6,
   "id": "19e6a34d",
   "metadata": {},
   "outputs": [],
   "source": [
    "df = pd.read_excel(excel_file_path, engine=\"openpyxl\")"
   ]
  },
  {
   "cell_type": "code",
   "execution_count": 7,
   "id": "74d65201",
   "metadata": {},
   "outputs": [
    {
     "name": "stdout",
     "output_type": "stream",
     "text": [
      "<class 'pandas.core.frame.DataFrame'>\n",
      "RangeIndex: 20 entries, 0 to 19\n",
      "Data columns (total 4 columns):\n",
      " #   Column         Non-Null Count  Dtype \n",
      "---  ------         --------------  ----- \n",
      " 0   inputs         20 non-null     object\n",
      " 1   targets        20 non-null     object\n",
      " 2   roman_inputs   20 non-null     object\n",
      " 3   roman_targets  20 non-null     object\n",
      "dtypes: object(4)\n",
      "memory usage: 772.0+ bytes\n"
     ]
    }
   ],
   "source": [
    "df.info()"
   ]
  },
  {
   "cell_type": "code",
   "execution_count": 8,
   "id": "c95ce645",
   "metadata": {},
   "outputs": [
    {
     "name": "stdout",
     "output_type": "stream",
     "text": [
      "Created instruction.jsonl with 20 examples.\n"
     ]
    }
   ],
   "source": [
    "with open(output_jsonl_path, \"w\", encoding=\"utf-8\") as f:\n",
    "    for idx, row in df.iterrows():\n",
    "        urdu_input = str(row[\"inputs\"]).strip()\n",
    "        urdu_target = str(row[\"targets\"]).strip()\n",
    "\n",
    "        record = {\n",
    "            \"instruction\": \"Translate the following Urdu content into Roman Urdu.\",\n",
    "            \"input\": f\"Input: {urdu_input}\\nTarget: {urdu_target}\",\n",
    "            \"output\": \"\"  # To be filled after Batch API run\n",
    "        }\n",
    "\n",
    "        f.write(json.dumps(record, ensure_ascii=False) + \"\\n\")\n",
    "\n",
    "print(f\"Created {output_jsonl_path} with {len(df)} examples.\")"
   ]
  }
 ],
 "metadata": {
  "kernelspec": {
   "display_name": "unsloth_env",
   "language": "python",
   "name": "python3"
  },
  "language_info": {
   "codemirror_mode": {
    "name": "ipython",
    "version": 3
   },
   "file_extension": ".py",
   "mimetype": "text/x-python",
   "name": "python",
   "nbconvert_exporter": "python",
   "pygments_lexer": "ipython3",
   "version": "3.11.11"
  }
 },
 "nbformat": 4,
 "nbformat_minor": 5
}
